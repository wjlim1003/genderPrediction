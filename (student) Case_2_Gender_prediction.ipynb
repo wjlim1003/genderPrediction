{
 "cells": [
  {
   "cell_type": "markdown",
   "metadata": {
    "id": "HNoTYZhdfVZA"
   },
   "source": [
    "## Beforehand...\n",
    "** 1.1 NLTK Setup  **\n",
    "   - Install the NLTK library (refer to the previous python file)\n",
    "   - Once NLTK is installed, the text data files (corpora) should be downloaded.  See the following cell to start the download."
   ]
  },
  {
   "cell_type": "markdown",
   "metadata": {},
   "source": [
    "## Question 1"
   ]
  },
  {
   "cell_type": "code",
   "execution_count": null,
   "metadata": {
    "colab": {
     "base_uri": "https://localhost:8080/"
    },
    "executionInfo": {
     "elapsed": 341,
     "status": "ok",
     "timestamp": 1710213693819,
     "user": {
      "displayName": "CHING PANG GOH",
      "userId": "03150219032412111071"
     },
     "user_tz": -480
    },
    "id": "LTHhHUJ7fVZE",
    "outputId": "c273904a-ea89-48f1-9e9a-19bbc6f8910e"
   },
   "outputs": [],
   "source": [
    "# code to build a classifier to classify names as male or female\n",
    "# demonstrates the basics of feature extraction and model building\n",
    "# retrieve dataset inside nltk library\n",
    "\n",
    "import nltk\n",
    "nltk.download('')  #complete this\n",
    "\n",
    "names = [(name, 'male') for name in nltk.corpus.names.words(\"\")]       #complete this\n",
    "names += [(name, 'female') for name in nltk.corpus.names.words(\"\")]    #complete this\n",
    "print (names[0:10])\n",
    "\n",
    "#print (names)\n",
    "print(\"\\nNumber of male names:\")\n",
    "print (len(nltk.corpus.names.words('male.txt')))\n",
    "\n",
    "print(\"\\nNumber of female names:\")\n",
    "print (len(nltk.corpus.names.words('female.txt')))\n",
    "\n",
    "male_names = nltk.corpus.names.words('male.txt')\n",
    "print(\"\\nFirst 10 male names:\")\n",
    "print (male_names[0:10])\n",
    "\n",
    "female_names = nltk.corpus.names.words('female.txt')\n",
    "print(\"\\nFirst 10 female names:\")\n",
    "print (female_names[0:10])"
   ]
  },
  {
   "cell_type": "code",
   "execution_count": null,
   "metadata": {},
   "outputs": [],
   "source": [
    "data_path =                                          #complete this\n",
    "print(\"NLTK data directory:\", data_path)"
   ]
  },
  {
   "cell_type": "markdown",
   "metadata": {},
   "source": [
    "## Question 2"
   ]
  },
  {
   "cell_type": "code",
   "execution_count": null,
   "metadata": {
    "executionInfo": {
     "elapsed": 339,
     "status": "ok",
     "timestamp": 1710214355938,
     "user": {
      "displayName": "CHING PANG GOH",
      "userId": "03150219032412111071"
     },
     "user_tz": -480
    },
    "id": "10ATS4wNpOBW"
   },
   "outputs": [],
   "source": [
    " # feature extraction function (since the data is clean, we may skip the data cleaning)\n",
    "\n",
    "def extract_gender_features(name):          \n",
    "    name = name.lower()\n",
    "    features = {}\n",
    "    # features[\"suffix\"] = name[-1:]\n",
    "    # features[\"suffix2\"] = name[-2:] if len(name) > 1 else name[0]\n",
    "    # features[\"suffix3\"] = name[-3:] if len(name) > 2 else name[0]\n",
    "    # features[\"suffix4\"] = name[-4:] if len(name) > 3 else name[0]\n",
    "    # features[\"suffix5\"] = name[-5:] if len(name) > 4 else name[0]\n",
    "    # features[\"suffix6\"] = name[-6:] if len(name) > 5 else name[0]\n",
    "    # features[\"prefix\"] = name[:1] #J\n",
    "    # features[\"prefix2\"] = name[:2] if len(name) > 1 else name[0]\n",
    "    # features[\"prefix3\"] = name[:3] if len(name) > 2 else name[0]\n",
    "    # features[\"prefix4\"] = name[:4] if len(name) > 3 else name[0]\n",
    "    # features[\"prefix5\"] = name[:5] if len(name) > 4 else name[0]\n",
    "\n",
    "    print (features)\n",
    "    return features"
   ]
  },
  {
   "cell_type": "markdown",
   "metadata": {},
   "source": [
    "## Question 3"
   ]
  },
  {
   "cell_type": "code",
   "execution_count": null,
   "metadata": {
    "colab": {
     "base_uri": "https://localhost:8080/"
    },
    "executionInfo": {
     "elapsed": 2237,
     "status": "ok",
     "timestamp": 1710214361316,
     "user": {
      "displayName": "CHING PANG GOH",
      "userId": "03150219032412111071"
     },
     "user_tz": -480
    },
    "id": "W82F3ruhpScN",
    "outputId": "afb493c3-5143-4c46-840e-1564ebbe13d7"
   },
   "outputs": [],
   "source": [
    "# perform feature extraction for every data\n",
    "\n",
    "data =                         #complete this\n",
    "# print (data)  #categarize features with corresponding genders"
   ]
  },
  {
   "cell_type": "markdown",
   "metadata": {},
   "source": [
    "## Question 4"
   ]
  },
  {
   "cell_type": "code",
   "execution_count": null,
   "metadata": {
    "executionInfo": {
     "elapsed": 2,
     "status": "ok",
     "timestamp": 1710214363697,
     "user": {
      "displayName": "CHING PANG GOH",
      "userId": "03150219032412111071"
     },
     "user_tz": -480
    },
    "id": "XoSf0ek2pYjM"
   },
   "outputs": [],
   "source": [
    "# Machine learning: data splitting\n",
    "\n",
    "import random\n",
    "random.                          #complete this \n",
    "\n",
    "dataCount = len(data)\n",
    "trainCount =                     #complete this\n",
    "\n",
    "trainData = data[:trainCount]\n",
    "testData = data[trainCount:]"
   ]
  },
  {
   "cell_type": "markdown",
   "metadata": {},
   "source": [
    "## Question 5"
   ]
  },
  {
   "cell_type": "code",
   "execution_count": null,
   "metadata": {
    "executionInfo": {
     "elapsed": 324,
     "status": "ok",
     "timestamp": 1710214369725,
     "user": {
      "displayName": "CHING PANG GOH",
      "userId": "03150219032412111071"
     },
     "user_tz": -480
    },
    "id": "nche2wTwparM"
   },
   "outputs": [],
   "source": [
    "# Machine learning: data training\n",
    "\n",
    "bayes =                            #complete this"
   ]
  },
  {
   "cell_type": "markdown",
   "metadata": {},
   "source": [
    "## Question 6"
   ]
  },
  {
   "cell_type": "code",
   "execution_count": null,
   "metadata": {
    "colab": {
     "base_uri": "https://localhost:8080/"
    },
    "executionInfo": {
     "elapsed": 2,
     "status": "ok",
     "timestamp": 1710214371883,
     "user": {
      "displayName": "CHING PANG GOH",
      "userId": "03150219032412111071"
     },
     "user_tz": -480
    },
    "id": "v8XqoBf-pfm-",
    "outputId": "76d16be1-aa0f-4f69-e30f-4f3e23d0bab1"
   },
   "outputs": [],
   "source": [
    "# Machine learning: accuracy\n",
    "\n",
    "print(\"trainData accuracy=\",）                               #complete this\n",
    "print(\"testData accuracy=\",)                             #complete this\n",
    "\n",
    "bayes.show_most_informative_features(25)"
   ]
  },
  {
   "cell_type": "markdown",
   "metadata": {},
   "source": [
    "## Question 7"
   ]
  },
  {
   "cell_type": "code",
   "execution_count": null,
   "metadata": {
    "colab": {
     "base_uri": "https://localhost:8080/"
    },
    "executionInfo": {
     "elapsed": 3343,
     "status": "ok",
     "timestamp": 1710214407325,
     "user": {
      "displayName": "CHING PANG GOH",
      "userId": "03150219032412111071"
     },
     "user_tz": -480
    },
    "id": "zw7oimbWLvZn",
    "outputId": "dbe3bfc7-dc19-441f-812b-77fb09633ba7"
   },
   "outputs": [],
   "source": [
    "# Predict a new name\n",
    "\n",
    "input_name = input(\"Name:\")\n",
    "print()                                    #complete this"
   ]
  },
  {
   "cell_type": "markdown",
   "metadata": {},
   "source": [
    "## Question 8"
   ]
  },
  {
   "cell_type": "code",
   "execution_count": null,
   "metadata": {
    "colab": {
     "base_uri": "https://localhost:8080/"
    },
    "executionInfo": {
     "elapsed": 4984,
     "status": "ok",
     "timestamp": 1710209457534,
     "user": {
      "displayName": "CHING PANG GOH",
      "userId": "03150219032412111071"
     },
     "user_tz": -480
    },
    "id": "_YPpzzzBfVZG",
    "outputId": "59a9eae9-0fe8-4875-ae09-dc67633b4db2"
   },
   "outputs": [],
   "source": [
    "# Display wrong prediction for improvement\n",
    "\n",
    "errors = []\n",
    "\n",
    "for (name,label) in names:\n",
    "    if bayes.classify(extract_gender_features(name)) != label:\n",
    "        errors.append({\"name\": name, \"label\": label})\n",
    "\n",
    "errors"
   ]
  },
  {
   "cell_type": "markdown",
   "metadata": {},
   "source": [
    "## Question 9"
   ]
  },
  {
   "cell_type": "code",
   "execution_count": null,
   "metadata": {},
   "outputs": [],
   "source": [
    "# Store the model into joblib using dump method \n",
    "# complete this\n"
   ]
  }
 ],
 "metadata": {
  "colab": {
   "provenance": []
  },
  "kernelspec": {
   "display_name": "Python 3 (ipykernel)",
   "language": "python",
   "name": "python3"
  },
  "language_info": {
   "codemirror_mode": {
    "name": "ipython",
    "version": 3
   },
   "file_extension": ".py",
   "mimetype": "text/x-python",
   "name": "python",
   "nbconvert_exporter": "python",
   "pygments_lexer": "ipython3",
   "version": "3.11.7"
  }
 },
 "nbformat": 4,
 "nbformat_minor": 4
}
